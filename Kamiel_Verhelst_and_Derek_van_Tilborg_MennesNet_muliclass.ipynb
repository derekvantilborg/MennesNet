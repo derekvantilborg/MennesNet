{
  "nbformat": 4,
  "nbformat_minor": 0,
  "metadata": {
    "colab": {
      "name": "Kamiel_Verhelst_and_Derek_van_Tilborg_MennesNet_muliclass.ipynb",
      "provenance": [],
      "collapsed_sections": [],
      "machine_shape": "hm"
    },
    "kernelspec": {
      "name": "python3",
      "display_name": "Python 3"
    },
    "accelerator": "GPU"
  },
  "cells": [
    {
      "cell_type": "markdown",
      "metadata": {
        "id": "UH1UTlmS0HGg",
        "colab_type": "text"
      },
      "source": [
        "# Deep Learning Project Derek & Kamiel\n",
        "## 0) Install and load libraries\n",
        "\n"
      ]
    },
    {
      "cell_type": "code",
      "metadata": {
        "id": "qEyQo-0ZthCr",
        "colab_type": "code",
        "outputId": "585d64c8-e870-48d8-a668-fe07e7fd994e",
        "colab": {
          "base_uri": "https://localhost:8080/",
          "height": 289
        }
      },
      "source": [
        "!pip install mxnet-cu101==1.6.0b20191122\n",
        "\n",
        "import mxnet\n",
        "from mxnet import gluon, npx, np, autograd, gpu\n",
        "from mxnet.gluon import nn\n",
        "import os, shutil, zipfile\n",
        "import skimage.io as io\n",
        "import matplotlib.pyplot as plt\n",
        "import pandas as pd\n",
        "import random\n",
        "import PIL.Image\n",
        "import matplotlib\n",
        "import time\n",
        "import csv\n",
        "import mxnet.gluon.data.vision as vision\n",
        "\n",
        "! pip install d2l -q\n",
        "import d2l"
      ],
      "execution_count": 0,
      "outputs": [
        {
          "output_type": "stream",
          "text": [
            "Collecting mxnet-cu101==1.6.0b20191122\n",
            "\u001b[?25l  Downloading https://files.pythonhosted.org/packages/1e/0a/6023701d056910b01afd4fed228d63fed904b7278481eeef6aa65f7ad648/mxnet_cu101-1.6.0b20191122-py2.py3-none-any.whl (627.7MB)\n",
            "\u001b[K     |████████████████████████████████| 627.7MB 10kB/s \n",
            "\u001b[?25hRequirement already satisfied: numpy<2.0.0,>1.16.0 in /usr/local/lib/python3.6/dist-packages (from mxnet-cu101==1.6.0b20191122) (1.18.2)\n",
            "Collecting graphviz<0.9.0,>=0.8.1\n",
            "  Downloading https://files.pythonhosted.org/packages/53/39/4ab213673844e0c004bed8a0781a0721a3f6bb23eb8854ee75c236428892/graphviz-0.8.4-py2.py3-none-any.whl\n",
            "Requirement already satisfied: requests<3,>=2.20.0 in /usr/local/lib/python3.6/dist-packages (from mxnet-cu101==1.6.0b20191122) (2.21.0)\n",
            "Requirement already satisfied: urllib3<1.25,>=1.21.1 in /usr/local/lib/python3.6/dist-packages (from requests<3,>=2.20.0->mxnet-cu101==1.6.0b20191122) (1.24.3)\n",
            "Requirement already satisfied: idna<2.9,>=2.5 in /usr/local/lib/python3.6/dist-packages (from requests<3,>=2.20.0->mxnet-cu101==1.6.0b20191122) (2.8)\n",
            "Requirement already satisfied: certifi>=2017.4.17 in /usr/local/lib/python3.6/dist-packages (from requests<3,>=2.20.0->mxnet-cu101==1.6.0b20191122) (2020.4.5.1)\n",
            "Requirement already satisfied: chardet<3.1.0,>=3.0.2 in /usr/local/lib/python3.6/dist-packages (from requests<3,>=2.20.0->mxnet-cu101==1.6.0b20191122) (3.0.4)\n",
            "Installing collected packages: graphviz, mxnet-cu101\n",
            "  Found existing installation: graphviz 0.10.1\n",
            "    Uninstalling graphviz-0.10.1:\n",
            "      Successfully uninstalled graphviz-0.10.1\n",
            "Successfully installed graphviz-0.8.4 mxnet-cu101-1.6.0b20191122\n"
          ],
          "name": "stdout"
        }
      ]
    },
    {
      "cell_type": "markdown",
      "metadata": {
        "id": "jVds5ykztaaP",
        "colab_type": "text"
      },
      "source": [
        "## 1) Download the data\n",
        "This template downloads the UCM data (both mono and multi-labels) in your local Colab environment. Write the notebook in such a way that it fully runs from start to end without further intervention (i.e. do not change the directory structure manually in the mean time)."
      ]
    },
    {
      "cell_type": "code",
      "metadata": {
        "id": "ZniYdzlfx-2D",
        "colab_type": "code",
        "outputId": "b2f7aad5-7c3e-45f7-fd92-e607adaf4f99",
        "colab": {
          "base_uri": "https://localhost:8080/",
          "height": 136
        }
      },
      "source": [
        "if not os.path.isdir('ucmdata'):\n",
        "  ! git clone https://git.wur.nl/lobry001/ucmdata.git\n",
        "os.chdir('ucmdata')\n",
        "\n",
        "with zipfile.ZipFile('UCMerced_LandUse.zip', 'r') as zip_ref:\n",
        "    zip_ref.extractall('UCMImages')\n",
        "\n",
        "!mv UCMImages/UCMerced_LandUse/Images .\n",
        "!rm -rf UCMImages README.md  UCMerced_LandUse.zip\n",
        "!ls\n",
        "\n",
        "UCM_images_path = \"Images/\"\n",
        "Multilabels_path = \"LandUse_Multilabeled.txt\""
      ],
      "execution_count": 0,
      "outputs": [
        {
          "output_type": "stream",
          "text": [
            "Cloning into 'ucmdata'...\n",
            "remote: Enumerating objects: 8, done.\u001b[K\n",
            "remote: Counting objects: 100% (8/8), done.\u001b[K\n",
            "remote: Compressing objects: 100% (6/6), done.\u001b[K\n",
            "remote: Total 8 (delta 0), reused 0 (delta 0), pack-reused 0\u001b[K\n",
            "Unpacking objects: 100% (8/8), done.\n",
            "Images\tLandUse_Multilabeled.txt\n"
          ],
          "name": "stdout"
        }
      ]
    },
    {
      "cell_type": "code",
      "metadata": {
        "id": "gfKsFE5i8LYF",
        "colab_type": "code",
        "colab": {}
      },
      "source": [
        "## ============== Function to split data paths in train/test for data loading =========================\n",
        "\n",
        "def convert_and_split(parent_dir, split_ratio = 0.8, n_copies = 0):\n",
        "    ''' randomly split all filenames in a parent directory into a test and a train set AND copy them to their respective directories\n",
        "    parent_dir = pathname of the parent directory\n",
        "    split_ratio = train/test ratio, default of 0.8 will give 80% train, 20% test\n",
        "    '''\n",
        "    # walk through the parent dir and find all file paths that are not hidden files\n",
        "    listOfFiles = list()\n",
        "    dirs = []\n",
        "    for root, directories, filenames in os.walk(parent_dir):\n",
        "        if not dirs: # save a list of class directories\n",
        "            dirs = directories\n",
        "        for filename in filenames:\n",
        "            if not filename.startswith('.'):\n",
        "                path = os.path.join(root, filename)\n",
        "\n",
        "                if not path.endswith('.PNG'):\n",
        "                    im = PIL.Image.open(path)\n",
        "                    im.save(path.split('.')[0] + '.PNG', 'PNG', quality=100)\n",
        "                    os.remove(path)\n",
        "                    path = path.split('.')[0] + '.PNG'\n",
        "                listOfFiles += [path]\n",
        "\n",
        "    # Multiply the images\n",
        "    if n_copies > 0:\n",
        "        for root, directories, filenames in os.walk(parent_dir):\n",
        "            # print(root, filenames)\n",
        "            for filename in filenames:\n",
        "                src = os.path.join(root, filename)\n",
        "                base = ''.join(i for i in os.path.basename(src).split('.')[0] if not i.isdigit())\n",
        "                filenr =  ''.join(i for i in os.path.basename(src).split('.')[0] if i.isdigit())\n",
        "                ext = ''.join(i for i in os.path.basename(src).split('.')[1])\n",
        "\n",
        "                for i in range(n_copies):\n",
        "                    new = root + \"/\" + base + filenr + str(i) + '.' + ext\n",
        "                    shutil.copy(src, new)\n",
        "                    listOfFiles += [new]\n",
        "\n",
        "    # shuffle list of file paths and split according to the split ratio\n",
        "    random.shuffle(listOfFiles)\n",
        "\n",
        "    # create folder structure for test and train data\n",
        "    for mode in ['train', 'test']:\n",
        "        if not os.path.exists(mode):\n",
        "            os.mkdir(mode)\n",
        "            [os.mkdir(os.path.join(mode, dir)) for dir in dirs]\n",
        "\n",
        "    for i, path in enumerate(listOfFiles):\n",
        "        mode = \"train\" if i < round(len(listOfFiles) * split_ratio) else \"test\"\n",
        "        file = os.path.split(path)[1]\n",
        "        file_dir = ''.join(filter(lambda x: x.isalpha(), file.split('.')[0]))\n",
        "        os.rename(path, os.path.join(mode, file_dir, file))\n",
        "\n",
        "\n",
        "convert_and_split(parent_dir = UCM_images_path, n_copies = 5)"
      ],
      "execution_count": 0,
      "outputs": []
    },
    {
      "cell_type": "markdown",
      "metadata": {
        "id": "iJEMNLwvtJZo",
        "colab_type": "text"
      },
      "source": [
        "## 2) Initialize dataset and data loader"
      ]
    },
    {
      "cell_type": "code",
      "metadata": {
        "id": "ciXo7NCdUpKD",
        "colab_type": "code",
        "outputId": "8a1479d6-edf1-42ce-a0ff-35943c1abdcd",
        "colab": {
          "base_uri": "https://localhost:8080/",
          "height": 269
        }
      },
      "source": [
        "## =============== DEFINING DATA SETS AND LOADERS ==================\n",
        "\n",
        "train_folder = 'train'\n",
        "test_folder = 'test'\n",
        "batch_size = 16\n",
        "\n",
        "\n",
        "def transformer(data, label, dim=256, ch=3):\n",
        "  rgb_mean = [0.485, 0.456, 0.406]\n",
        "  rgb_std = [0.229, 0.224, 0.225]\n",
        "\n",
        "  trans = vision.transforms.Compose([vision.transforms.CenterCrop(dim),\n",
        "                                     vision.transforms.RandomFlipLeftRight(),\n",
        "                                     vision.transforms.RandomFlipTopBottom(),\n",
        "                                     vision.transforms.RandomColorJitter(brightness=0.4, contrast=0.4, saturation=0.4)\n",
        "                                     ])\n",
        "  data = trans(data)\n",
        "  data = data.transpose(axes=(2, 0, 1))\n",
        "\n",
        "  normalize = vision.transforms.Normalize(mean=rgb_mean, std=rgb_std)\n",
        "  data = normalize(data.astype('float32')/255)\n",
        "\n",
        "  # Fill up data with zeros to shape (3, 256, 256)\n",
        "  data_filled = mxnet.ndarray.zeros(shape=(ch, dim, dim))\n",
        "  data_filled[:data.shape[0], :data.shape[1], :data.shape[2]] = data\n",
        "\n",
        "  return data_filled, label\n",
        "\n",
        "Dataset_Single_train = gluon.data.vision.datasets.ImageFolderDataset(train_folder, transform=transformer) \n",
        "\n",
        "Dataset_Single_test = gluon.data.vision.datasets.ImageFolderDataset(test_folder, transform=transformer)\n",
        "\n",
        "def render_as_image(a):\n",
        "    img = a.asnumpy() # convert to numpy array\n",
        "    img = img.transpose((1, 2, 0))  # Move channel to the last dimension\n",
        "    img = img.astype(np.uint8)  # use uint8 (0-255)\n",
        "\n",
        "    plt.imshow(img)\n",
        "    plt.show()\n",
        "\n",
        "# 3x256x256\n",
        "render_as_image(Dataset_Single_train[825][0])\n",
        "\n",
        "\n",
        "DataLoader_Single_train = gluon.data.DataLoader(Dataset_Single_train,\n",
        "                                    batch_size=batch_size,\n",
        "                                    shuffle=True,\n",
        "                                    last_batch='discard')\n",
        "DataLoader_Single_test = gluon.data.DataLoader(Dataset_Single_test,\n",
        "                                    batch_size=batch_size,\n",
        "                                    shuffle=True,\n",
        "                                    last_batch='discard')\n",
        "\n",
        "# Make sure the DataLoader is iterable\n",
        "# for X, label in DataLoader_Single_train:  \n",
        "#     print(X, label)\n",
        "#     break\n",
        "    # if X.shape[2] != 256 or X.shape[3] != 256:\n",
        "    #   print(X.shape)\n",
        "    #   print(label.shape)"
      ],
      "execution_count": 0,
      "outputs": [
        {
          "output_type": "display_data",
          "data": {
            "image/png": "[encoded data removed]",
            "text/plain": [
              "<Figure size 432x288 with 1 Axes>"
            ]
          },
          "metadata": {
            "tags": [],
            "needs_background": "light"
          }
        }
      ]
    },
    {
      "cell_type": "markdown",
      "metadata": {
        "id": "hR5NinskGSOL",
        "colab_type": "text"
      },
      "source": [
        "#### 2.2) Defining the network\n",
        "We will simply use the FCN architecture seen during the lecture:"
      ]
    },
    {
      "cell_type": "markdown",
      "metadata": {
        "id": "DFS5W27SMob8",
        "colab_type": "text"
      },
      "source": [
        "Check the output shape of the network"
      ]
    },
    {
      "cell_type": "code",
      "metadata": {
        "id": "NwTHvyRfESaw",
        "colab_type": "code",
        "colab": {}
      },
      "source": [
        "ctx = d2l.try_all_gpus()"
      ],
      "execution_count": 0,
      "outputs": []
    },
    {
      "cell_type": "code",
      "metadata": {
        "id": "ARKvYDC9AIuG",
        "colab_type": "code",
        "outputId": "6a55de76-a7ca-4359-82f5-2f830542d532",
        "colab": {
          "base_uri": "https://localhost:8080/",
          "height": 272
        }
      },
      "source": [
        "net = nn.Sequential()\n",
        "net.add(nn.Conv2D(channels=3, kernel_size=5, activation='relu'),\n",
        "        nn.MaxPool2D(pool_size=2, strides=2),\n",
        "\n",
        "        nn.Conv2D(channels=32, kernel_size=10, activation='relu'),\n",
        "        nn.MaxPool2D(pool_size=2, strides=2),\n",
        "\n",
        "        nn.Conv2D(channels=64, kernel_size=10, activation='relu'),\n",
        "        nn.MaxPool2D(pool_size=2, strides=2),\n",
        "\n",
        "        nn.Conv2D(channels=128, kernel_size=5, activation='relu'),\n",
        "        nn.MaxPool2D(pool_size=2, strides=2),\n",
        "\n",
        "        nn.Conv2D(channels=256, kernel_size=3, activation='relu'),\n",
        "        nn.MaxPool2D(pool_size=2, strides=2),\n",
        "\n",
        "        nn.Flatten(),\n",
        "        \n",
        "        nn.Dense(256, activation=\"relu\"),\n",
        "        nn.Dropout(0.2),\n",
        "        nn.Dense(128, activation=\"sigmoid\"),\n",
        "        #nn.Dropout(0.4),\n",
        "        nn.Dense(21))\n",
        "net.initialize(init=mxnet.init.Xavier())\n",
        "\n",
        "# Test the network shapes\n",
        "X = mxnet.ndarray.random.uniform(shape=(5, 3, 256, 256))\n",
        "for layer in net:\n",
        "    X = layer(X)\n",
        "    print(layer.name, 'output shape:\\t', X.shape)"
      ],
      "execution_count": 0,
      "outputs": [
        {
          "output_type": "stream",
          "text": [
            "conv0 output shape:\t (5, 3, 252, 252)\n",
            "pool0 output shape:\t (5, 3, 126, 126)\n",
            "conv1 output shape:\t (5, 32, 117, 117)\n",
            "pool1 output shape:\t (5, 32, 58, 58)\n",
            "conv2 output shape:\t (5, 64, 49, 49)\n",
            "pool2 output shape:\t (5, 64, 24, 24)\n",
            "conv3 output shape:\t (5, 128, 20, 20)\n",
            "pool3 output shape:\t (5, 128, 10, 10)\n",
            "conv4 output shape:\t (5, 256, 8, 8)\n",
            "pool4 output shape:\t (5, 256, 4, 4)\n",
            "flatten0 output shape:\t (5, 4096)\n",
            "dense0 output shape:\t (5, 256)\n",
            "dropout0 output shape:\t (5, 256)\n",
            "dense1 output shape:\t (5, 128)\n",
            "dense2 output shape:\t (5, 21)\n"
          ],
          "name": "stdout"
        }
      ]
    },
    {
      "cell_type": "code",
      "metadata": {
        "id": "94Zi33Xw4SD-",
        "colab_type": "code",
        "colab": {}
      },
      "source": [
        "# push net to gpu\n",
        "net.collect_params().initialize(force_reinit=True, ctx=ctx)"
      ],
      "execution_count": 0,
      "outputs": []
    },
    {
      "cell_type": "code",
      "metadata": {
        "id": "bX11ni0dAJmU",
        "colab_type": "code",
        "colab": {}
      },
      "source": [
        "softmax_cross_entropy = gluon.loss.SoftmaxCrossEntropyLoss()\n",
        "trainer = gluon.Trainer(net.collect_params(), 'sgd', {'learning_rate': 0.01, 'momentum': 0.5})"
      ],
      "execution_count": 0,
      "outputs": []
    },
    {
      "cell_type": "code",
      "metadata": {
        "id": "PTXVaBN_AMgF",
        "colab_type": "code",
        "colab": {}
      },
      "source": [
        "def acc(output, label):\n",
        "    # output: (batch, num_output) float32 ndarray\n",
        "    # label: (batch, ) int32 ndarray\n",
        "    return (output.argmax(axis=1) ==\n",
        "            label.astype('float32')).mean().asscalar()"
      ],
      "execution_count": 0,
      "outputs": []
    },
    {
      "cell_type": "code",
      "metadata": {
        "id": "zW-5jhBvAO3e",
        "colab_type": "code",
        "outputId": "2f660496-4e95-4ba2-f0fe-c4bf020091d2",
        "colab": {
          "base_uri": "https://localhost:8080/",
          "height": 527
        }
      },
      "source": [
        "num_epochs = 30\n",
        "train_hist = []\n",
        "\n",
        "for epoch in range(num_epochs):\n",
        "    train_loss, train_acc, valid_acc = 0., 0., 0.\n",
        "    tic = time.time()\n",
        "    #animator = d2l.Animator(xlabel='epoch', xlim=[0, num_epochs],legend=['train loss', 'train acc', 'test acc'])\n",
        "    count = 0\n",
        "    for data, label in DataLoader_Single_train:\n",
        "      # gpu compatibility\n",
        "        data = gluon.utils.split_and_load(data, ctx)\n",
        "        label = gluon.utils.split_and_load(label, ctx)\n",
        "        # forward + backward\n",
        "        with autograd.record():\n",
        "            count += 1\n",
        "            #if (count % 100 == 0): print(count)\n",
        "            output = net(mxnet.nd.concat(*data, dim=1)) #unpack the data list\n",
        "            loss = softmax_cross_entropy(output, label[0]) #index 0 is the actual label\n",
        "        loss.backward()\n",
        "        # update parameters\n",
        "        trainer.step(batch_size)#, ignore_stale_grad=True)\n",
        "        # calculate training metrics\n",
        "        train_loss += loss.mean().asscalar()\n",
        "        train_acc += acc(output, label[0])\n",
        "        #if (count+1) % 50 == 0: animator.add(epoch + count/len(DataLoader_Single_train),(train_loss, train_acc, None))\n",
        "    # calculate validation accuracy\n",
        "    for val_data, val_label in DataLoader_Single_test:\n",
        "        val_data = gluon.utils.split_and_load(val_data, ctx)\n",
        "        val_label = gluon.utils.split_and_load(val_label, ctx)\n",
        "        valid_acc += acc( net(mxnet.nd.concat(*val_data, dim=1) ), val_label[0])\n",
        "    #animator.add(epoch+1, (None, None, valid_acc))\n",
        "    hist = \"Epoch %d: loss %.3f, train acc %.3f, test acc %.3f, in %.1f sec\" % (\n",
        "            epoch, train_loss/len(DataLoader_Single_train), train_acc/len(DataLoader_Single_train),\n",
        "            valid_acc/len(DataLoader_Single_test), time.time()-tic)\n",
        "    train_hist.append(hist)"
      ],
      "execution_count": 0,
      "outputs": [
        {
          "output_type": "stream",
          "text": [
            "Epoch 0: loss 2.799, train acc 0.164, test acc 0.258, in 109.8 sec\n",
            "Epoch 1: loss 2.215, train acc 0.324, test acc 0.380, in 107.8 sec\n",
            "Epoch 2: loss 1.864, train acc 0.402, test acc 0.391, in 107.2 sec\n",
            "Epoch 3: loss 1.619, train acc 0.477, test acc 0.510, in 106.7 sec\n",
            "Epoch 4: loss 1.411, train acc 0.547, test acc 0.511, in 106.5 sec\n",
            "Epoch 5: loss 1.241, train acc 0.600, test acc 0.637, in 106.2 sec\n",
            "Epoch 6: loss 1.084, train acc 0.655, test acc 0.691, in 105.8 sec\n",
            "Epoch 7: loss 0.932, train acc 0.701, test acc 0.676, in 105.6 sec\n",
            "Epoch 8: loss 0.791, train acc 0.743, test acc 0.781, in 105.9 sec\n",
            "Epoch 9: loss 0.706, train acc 0.772, test acc 0.793, in 105.5 sec\n",
            "Epoch 10: loss 0.596, train acc 0.810, test acc 0.845, in 105.5 sec\n",
            "Epoch 11: loss 0.508, train acc 0.836, test acc 0.868, in 106.1 sec\n",
            "Epoch 12: loss 0.454, train acc 0.853, test acc 0.881, in 106.0 sec\n",
            "Epoch 13: loss 0.396, train acc 0.872, test acc 0.868, in 106.4 sec\n",
            "Epoch 14: loss 0.336, train acc 0.897, test acc 0.928, in 106.9 sec\n",
            "Epoch 15: loss 0.284, train acc 0.913, test acc 0.941, in 107.1 sec\n",
            "Epoch 16: loss 0.248, train acc 0.924, test acc 0.935, in 107.1 sec\n",
            "Epoch 17: loss 0.207, train acc 0.939, test acc 0.948, in 107.6 sec\n",
            "Epoch 18: loss 0.182, train acc 0.947, test acc 0.968, in 107.3 sec\n",
            "Epoch 19: loss 0.176, train acc 0.948, test acc 0.947, in 107.0 sec\n",
            "Epoch 20: loss 0.170, train acc 0.947, test acc 0.969, in 106.9 sec\n",
            "Epoch 21: loss 0.128, train acc 0.963, test acc 0.981, in 107.1 sec\n",
            "Epoch 22: loss 0.105, train acc 0.973, test acc 0.984, in 107.1 sec\n",
            "Epoch 23: loss 0.114, train acc 0.968, test acc 0.980, in 107.5 sec\n",
            "Epoch 24: loss 0.097, train acc 0.974, test acc 0.982, in 107.5 sec\n",
            "Epoch 25: loss 0.075, train acc 0.982, test acc 0.977, in 107.5 sec\n",
            "Epoch 26: loss 0.073, train acc 0.981, test acc 0.986, in 108.4 sec\n",
            "Epoch 27: loss 0.091, train acc 0.974, test acc 0.949, in 107.9 sec\n",
            "Epoch 28: loss 0.077, train acc 0.978, test acc 0.994, in 107.9 sec\n",
            "Epoch 29: loss 0.100, train acc 0.971, test acc 0.969, in 108.1 sec\n"
          ],
          "name": "stdout"
        }
      ]
    },
    {
      "cell_type": "code",
      "metadata": {
        "id": "JEW7_Nsfd2Ue",
        "colab_type": "code",
        "colab": {}
      },
      "source": [
        "# save model parameters to drive\n",
        "model_file_name = 'net_20200424_0842_mom.params'\n",
        "net.save_parameters(model_file_name)\n",
        "\n",
        "!pip install -U -q PyDrive\n",
        "from pydrive.auth import GoogleAuth\n",
        "from pydrive.drive import GoogleDrive\n",
        "from google.colab import auth\n",
        "from oauth2client.client import GoogleCredentials\n",
        "\n",
        "auth.authenticate_user()\n",
        "gauth = GoogleAuth()\n",
        "gauth.credentials = GoogleCredentials.get_application_default()\n",
        "drive = GoogleDrive(gauth)\n",
        "\n",
        "model_file = drive.CreateFile({'title' : model_file_name})\n",
        "model_file.SetContentFile(model_file_name)\n",
        "model_file.Upload()\n"
      ],
      "execution_count": 0,
      "outputs": []
    },
    {
      "cell_type": "code",
      "metadata": {
        "id": "e4TBK-iVZgBo",
        "colab_type": "code",
        "outputId": "f6a31258-c36b-406b-9eab-023e1a50f02a",
        "colab": {
          "base_uri": "https://localhost:8080/",
          "height": 215
        }
      },
      "source": [
        "# write training history to file in drive\n",
        "filename = 'train_hist.txt'\n",
        "with open('/content/drive/My Drive/' + filename, 'w') as f:\n",
        "  for i in train_hist:\n",
        "        f.write(i + '\\n')\n"
      ],
      "execution_count": 0,
      "outputs": [
        {
          "output_type": "error",
          "ename": "FileNotFoundError",
          "evalue": "ignored",
          "traceback": [
            "\u001b[0;31m---------------------------------------------------------------------------\u001b[0m",
            "\u001b[0;31mFileNotFoundError\u001b[0m                         Traceback (most recent call last)",
            "\u001b[0;32m<ipython-input-15-70df19cd3eb7>\u001b[0m in \u001b[0;36m<module>\u001b[0;34m()\u001b[0m\n\u001b[1;32m      1\u001b[0m \u001b[0mfilename\u001b[0m \u001b[0;34m=\u001b[0m \u001b[0;34m'train_hist_mom05.txt'\u001b[0m\u001b[0;34m\u001b[0m\u001b[0;34m\u001b[0m\u001b[0m\n\u001b[0;32m----> 2\u001b[0;31m \u001b[0;32mwith\u001b[0m \u001b[0mopen\u001b[0m\u001b[0;34m(\u001b[0m\u001b[0;34m'/content/drive/My Drive/'\u001b[0m \u001b[0;34m+\u001b[0m \u001b[0mfilename\u001b[0m\u001b[0;34m,\u001b[0m \u001b[0;34m'w'\u001b[0m\u001b[0;34m)\u001b[0m \u001b[0;32mas\u001b[0m \u001b[0mf\u001b[0m\u001b[0;34m:\u001b[0m\u001b[0;34m\u001b[0m\u001b[0;34m\u001b[0m\u001b[0m\n\u001b[0m\u001b[1;32m      3\u001b[0m   \u001b[0;32mfor\u001b[0m \u001b[0mi\u001b[0m \u001b[0;32min\u001b[0m \u001b[0mtrain_hist\u001b[0m\u001b[0;34m:\u001b[0m\u001b[0;34m\u001b[0m\u001b[0;34m\u001b[0m\u001b[0m\n\u001b[1;32m      4\u001b[0m         \u001b[0mf\u001b[0m\u001b[0;34m.\u001b[0m\u001b[0mwrite\u001b[0m\u001b[0;34m(\u001b[0m\u001b[0mi\u001b[0m \u001b[0;34m+\u001b[0m \u001b[0;34m'\\n'\u001b[0m\u001b[0;34m)\u001b[0m\u001b[0;34m\u001b[0m\u001b[0;34m\u001b[0m\u001b[0m\n",
            "\u001b[0;31mFileNotFoundError\u001b[0m: [Errno 2] No such file or directory: '/content/drive/My Drive/train_hist_mom05.txt'"
          ]
        }
      ]
    },
    {
      "cell_type": "markdown",
      "metadata": {
        "id": "1Zion7D6Mtb-",
        "colab_type": "text"
      },
      "source": [
        "Add a classification layer with the right number of image classes.\n"
      ]
    },
    {
      "cell_type": "code",
      "metadata": {
        "id": "BIlTRiQGEHtD",
        "colab_type": "code",
        "outputId": "e13d9c03-b1c2-4a2f-e1ac-6bfc2634ea15",
        "colab": {
          "base_uri": "https://localhost:8080/",
          "height": 374
        }
      },
      "source": [
        " # Determine the test accuracy per class \n",
        " text_labels = ['agricultural', 'airplane', 'baseballdiamond', 'beach', 'buildings',\n",
        "               'chaparral', 'denseresidential', 'forest', 'freeway', 'golfcourse',\n",
        "                'harbor', 'intersection', 'mediumresidential', 'mobilehomepark', \n",
        "                'overpass', 'parkinglot', 'river', 'runway', 'sparseresidential',\n",
        "                'storagetanks','tenniscourt']\n",
        "\n",
        "DataLoader_test = gluon.data.DataLoader(Dataset_Single_test,\n",
        "                                    batch_size=len(Dataset_Single_test),\n",
        "                                    last_batch='discard')\n",
        "\n",
        "# Unpack the dataloader object\n",
        "X, y = [*DataLoader_test][0]\n",
        "\n",
        "class_accs = {'class':'accuracy'}\n",
        "for cls in range(21):\n",
        "  # Find the indexes for a class\n",
        "  idx = []\n",
        "  iteration = 0\n",
        "  for i in range(len(y)): \n",
        "    if y[i].asscalar() == cls:\n",
        "      idx.append(iteration)\n",
        "    iteration += 1\n",
        "      \n",
        "  # subset all data for a class\n",
        "  images_for_a_class = gluon.utils.split_and_load(X[idx], ctx)\n",
        "  labels_for_a_class = gluon.utils.split_and_load(y[idx] , ctx)\n",
        "\n",
        "  # predict all images from a class\n",
        "  preds = []\n",
        "  for x in images_for_a_class:\n",
        "      x = gluon.utils.split_and_load(x, ctx)\n",
        "      pred = net(mxnet.nd.concat(*x, dim=1)).argmax(axis=1)\n",
        "      preds.append(pred.astype('int32'))\n",
        "\n",
        "  # calculate accuracy and append to dict\n",
        "  class_acc = sum(preds[0] == cls).asscalar() / len(labels_for_a_class[0])\n",
        "  print(text_labels[cls], class_acc)\n",
        "  class_accs[text_labels[cls]] = class_acc.astype(float)\n"
      ],
      "execution_count": 0,
      "outputs": [
        {
          "output_type": "stream",
          "text": [
            "agricultural 0.954954954954955\n",
            "airplane 0.9821428571428571\n",
            "baseballdiamond 0.9655172413793104\n",
            "beach 0.9439252336448598\n",
            "buildings 1.0\n",
            "chaparral 1.0\n",
            "denseresidential 0.8661417322834646\n",
            "forest 0.9537037037037037\n",
            "freeway 0.9824561403508771\n",
            "golfcourse 0.9172413793103448\n",
            "harbor 1.0\n",
            "intersection 0.9818181818181818\n",
            "mediumresidential 0.9421487603305785\n",
            "mobilehomepark 0.9925925925925926\n",
            "overpass 0.9769230769230769\n",
            "parkinglot 0.9911504424778761\n",
            "river 0.9669421487603306\n",
            "runway 0.9915254237288136\n",
            "sparseresidential 0.92\n",
            "storagetanks 0.952\n",
            "tenniscourt 0.9576271186440678\n"
          ],
          "name": "stdout"
        }
      ]
    },
    {
      "cell_type": "markdown",
      "metadata": {
        "id": "-s36HehPlsmm",
        "colab_type": "text"
      },
      "source": [
        ""
      ]
    },
    {
      "cell_type": "code",
      "metadata": {
        "id": "f9p2tpyDWeP6",
        "colab_type": "code",
        "colab": {}
      },
      "source": [
        "# write results to file in drive\n",
        "with open('/content/drive/My Drive/acc_per_class.csv', 'w') as f:\n",
        "  for key in class_accs.keys():\n",
        "        f.write(\"%s,%s\\n\"%(key,class_accs[key]))\n"
      ],
      "execution_count": 0,
      "outputs": []
    }
  ]
}