{
  "nbformat": 4,
  "nbformat_minor": 0,
  "metadata": {
    "colab": {
      "name": "Kamiel_Derek_MGI_project_MennesNet_multilabel.ipynb",
      "provenance": [],
      "collapsed_sections": [],
      "machine_shape": "hm"
    },
    "kernelspec": {
      "name": "python3",
      "display_name": "Python 3"
    },
    "accelerator": "GPU"
  },
  "cells": [
    {
      "cell_type": "markdown",
      "metadata": {
        "id": "UH1UTlmS0HGg",
        "colab_type": "text"
      },
      "source": [
        "# Deep Learning Project Derek & Kamiel\n",
        "## 0) Install and load libraries\n",
        "\n"
      ]
    },
    {
      "cell_type": "code",
      "metadata": {
        "id": "qEyQo-0ZthCr",
        "colab_type": "code",
        "colab": {}
      },
      "source": [
        "!pip install mxnet-cu101==1.6.0b20191122\n",
        "\n",
        "import mxnet\n",
        "from mxnet import gluon, npx, np, autograd\n",
        "from mxnet.gluon import nn\n",
        "import os, shutil, zipfile\n",
        "#from git import Repo\n",
        "import pandas as pd\n",
        "import random\n",
        "import PIL.Image\n",
        "import matplotlib\n",
        "import time\n",
        "import mxnet.gluon.data.vision as vision\n",
        "import matplotlib.pyplot as plt\n",
        "from statistics import mean\n",
        "import math\n",
        "\n",
        "! pip install d2l -q\n",
        "import d2l"
      ],
      "execution_count": 0,
      "outputs": []
    },
    {
      "cell_type": "markdown",
      "metadata": {
        "id": "jVds5ykztaaP",
        "colab_type": "text"
      },
      "source": [
        "## 1) Download the data\n",
        "This template downloads the UCM data (both mono and multi-labels) in your local Colab environment. Write the notebook in such a way that it fully runs from start to end without further intervention (i.e. do not change the directory structure manually in the mean time)."
      ]
    },
    {
      "cell_type": "code",
      "metadata": {
        "id": "ZniYdzlfx-2D",
        "colab_type": "code",
        "outputId": "7dc76bcb-4010-4201-b678-765d1a6a3d11",
        "colab": {
          "base_uri": "https://localhost:8080/",
          "height": 146
        }
      },
      "source": [
        "if os.path.isdir('ucmdata'):\n",
        "  ! rm -rf ucmdata\n",
        "\n",
        "! git clone https://git.wur.nl/lobry001/ucmdata.git\n",
        "os.chdir('ucmdata')\n",
        "\n",
        "with zipfile.ZipFile('UCMerced_LandUse.zip', 'r') as zip_ref:\n",
        "    zip_ref.extractall('UCMImages')\n",
        "\n",
        "!mv UCMImages/UCMerced_LandUse/Images .\n",
        "!rm -rf UCMImages README.md  UCMerced_LandUse.zip\n",
        "!ls\n",
        "\n",
        "UCM_images_path = \"Images/\"\n",
        "Multilabels_path = \"LandUse_Multilabeled.txt\""
      ],
      "execution_count": 0,
      "outputs": [
        {
          "output_type": "stream",
          "text": [
            "Cloning into 'ucmdata'...\n",
            "remote: Enumerating objects: 8, done.\u001b[K\n",
            "remote: Counting objects: 100% (8/8), done.\u001b[K\n",
            "remote: Compressing objects: 100% (6/6), done.\u001b[K\n",
            "remote: Total 8 (delta 0), reused 0 (delta 0), pack-reused 0\u001b[K\n",
            "Unpacking objects: 100% (8/8), done.\n",
            "Images\tLandUse_Multilabeled.txt\n"
          ],
          "name": "stdout"
        }
      ]
    },
    {
      "cell_type": "code",
      "metadata": {
        "id": "gfKsFE5i8LYF",
        "colab_type": "code",
        "outputId": "df47240d-2cfd-4c98-ef9b-6be5895264a6",
        "colab": {
          "base_uri": "https://localhost:8080/",
          "height": 35
        }
      },
      "source": [
        "## ============== Function to split data paths in train/test for data loading =========================\n",
        "\n",
        "def convert_and_split(parent_dir, split_ratio = 0.8, n_copies = 1):\n",
        "    ''' randomly split all filenames in a parent directory into a test and a train set AND copy them to their respective directories\n",
        "    parent_dir = pathname of the parent directory\n",
        "    split_ratio = train/test ratio, default of 0.8 will give 80% train, 20% test\n",
        "    '''\n",
        "    # walk through the parent dir and find all file paths that are not hidden files\n",
        "    listOfFiles = list()\n",
        "    dirs = []\n",
        "\n",
        "    for root, directories, filenames in os.walk(parent_dir):\n",
        "        if not dirs: # save a list of class directories\n",
        "            dirs = directories\n",
        "        for i, filename in enumerate(filenames):\n",
        "            if not filename.startswith('.'):\n",
        "                  path = os.path.join(root, filename)\n",
        "                  if not path.endswith('.PNG'):\n",
        "                      im = PIL.Image.open(path)\n",
        "                      im.save(path.split('.')[0] + '.PNG', 'PNG', quality=100)\n",
        "                      os.remove(path)\n",
        "                      path = path.split('.')[0] + '.PNG'\n",
        "                  listOfFiles += [path]\n",
        "\n",
        "    # Multiply the images\n",
        "    if n_copies >= 1:\n",
        "        for root, directories, filenames in os.walk(parent_dir):\n",
        "            for filename in filenames:\n",
        "                src = os.path.join(root, filename)\n",
        "                base = ''.join(i for i in os.path.basename(src).split('.')[0] if not i.isdigit())\n",
        "                filenr =  ''.join(i for i in os.path.basename(src).split('.')[0] if i.isdigit())\n",
        "                ext = ''.join(i for i in os.path.basename(src).split('.')[1])\n",
        "\n",
        "                for i in range(n_copies):\n",
        "                    new = root + \"/\" + base + filenr + str(i) + '.' + ext\n",
        "                    shutil.copy(src, new)\n",
        "                    listOfFiles += [new]\n",
        "\n",
        "               \n",
        "\n",
        "    # shuffle list of file paths and split according to the split ratio\n",
        "    random.shuffle(listOfFiles)\n",
        "\n",
        "    # create folder structure for test and train data\n",
        "    for mode in ['train', 'test']:\n",
        "        if not os.path.exists(mode):\n",
        "            os.mkdir(mode)\n",
        "            [os.mkdir(os.path.join(mode, dir)) for dir in dirs]\n",
        "\n",
        "    for i, path in enumerate(listOfFiles):\n",
        "        mode = \"train\" if i < round(len(listOfFiles) * split_ratio) else \"test\"\n",
        "        file = os.path.split(path)[1]\n",
        "        file_dir = ''.join(filter(lambda x: x.isalpha(), file.split('.')[0]))\n",
        "        os.rename(path, os.path.join(mode, file_dir, file))\n",
        "\n",
        "    return\n",
        "! rm -rf train\n",
        "! rm -rf test\n",
        "! ls\n",
        "n_copies = 5 # cannot be larger than 9 in current code implementation\n",
        "convert_and_split(parent_dir = UCM_images_path, n_copies=n_copies)"
      ],
      "execution_count": 0,
      "outputs": [
        {
          "output_type": "stream",
          "text": [
            "Images\tLandUse_Multilabeled.txt\n"
          ],
          "name": "stdout"
        }
      ]
    },
    {
      "cell_type": "code",
      "metadata": {
        "id": "8_kZz9LtHeKG",
        "colab_type": "code",
        "colab": {}
      },
      "source": [
        "## ============== DEFINING THE MULTILABEL DATASET CLASS ===================\n",
        "class Dataset_Multilabel(gluon.data.Dataset):\n",
        "    def __init__(self, folder, label_file, dim=256, ch=3, transform=None, n_copies=3):\n",
        "        super(Dataset_Multilabel, self).__init__()\n",
        "        self.rgb_mean = mxnet.nd.array([0.485, 0.456, 0.406])\n",
        "        self.rgb_std = mxnet.nd.array([0.229, 0.224, 0.225])\n",
        "\n",
        "        # count the number of files in the folder       \n",
        "        nfiles = sum([len(files) for r, d, files in os.walk(folder)])\n",
        "\n",
        "        # Load labels as dataframe, define number of classes\n",
        "        label_df = pd.read_csv(label_file, sep=\"\\t\")\n",
        "        nclasses = len(label_df.columns) - 1\n",
        "\n",
        "        # initialize arrays\n",
        "        self.imgs = mxnet.nd.empty((nfiles, ch, dim, dim))\n",
        "        self.labels = mxnet.nd.empty((nfiles, nclasses))\n",
        "        cnt = 0\n",
        "        # Define self.images\n",
        "        for root, dirs, filenames in os.walk(folder):\n",
        "            for filename in filenames:\n",
        "              if not filename.startswith('.'):\n",
        "                  path = os.path.join(root, filename)\n",
        "                  img = mxnet.image.image.imread(path).astype('float32') / 255\n",
        "                  if transform:\n",
        "                      img = transform(img)\n",
        "                  else:\n",
        "                      img = img.transpose(axes=(2, 0, 1))\n",
        "\n",
        "                  self.imgs[cnt] = img\n",
        "                  label = label_df.loc[label_df['IMAGE\\LABEL'] == os.path.basename(filename).split('.')[0]].values.flatten().tolist()[1:]\n",
        "                  if not label:\n",
        "                    label = label_df.loc[label_df['IMAGE\\LABEL'] == os.path.basename(filename).split('.')[0][:-1]].values.flatten().tolist()[1:]\n",
        "                  self.labels[cnt] = label\n",
        "                  cnt += 1\n",
        "\n",
        "    def __getitem__(self, idx):\n",
        "        #__getitem__ asks for the sample number idx. Since we pre-loaded the images\n",
        "        #and the ground truths, we just have to return the corresponding sample.\n",
        "        img = self.imgs[idx]\n",
        "        label = self.labels[idx]\n",
        "        return img, label\n",
        "\n",
        "    def __len__(self):\n",
        "        return len(self.imgs)\n",
        "\n",
        "\n",
        "# Dataset_Multilabel(train_folder, Multilabels_path, transform=transformer, n_copies=n_copies)"
      ],
      "execution_count": 0,
      "outputs": []
    },
    {
      "cell_type": "code",
      "metadata": {
        "id": "8nR64OpTKFie",
        "colab_type": "code",
        "colab": {}
      },
      "source": [
        "## ================ DEFINING TRANSFORMATIONS ========================\n",
        "def transformer(data, label=None, dim=256, ch=3):\n",
        "    '''\n",
        "    :param data: mxnet NDArray of shape (W, H, C)\n",
        "    :param label:\n",
        "    :param dim:\n",
        "    :param ch:\n",
        "    :return:\n",
        "    '''\n",
        "    rgb_mean = (0.485, 0.456, 0.406)\n",
        "    rgb_std = (0.229, 0.224, 0.225)\n",
        "\n",
        "    trans = vision.transforms.Compose([vision.transforms.CenterCrop(dim),\n",
        "                                        vision.transforms.RandomFlipLeftRight(),\n",
        "                                        vision.transforms.RandomFlipTopBottom(),\n",
        "                                        vision.transforms.RandomColorJitter(brightness=0.2, contrast=0.2, saturation=0.2)])\n",
        "    data = trans(data)\n",
        "    data = mxnet.ndarray.transpose(data, axes=(2, 0, 1))\n",
        "\n",
        "\n",
        "    normalize = vision.transforms.Normalize(mean=rgb_mean, std=rgb_std)\n",
        "    data = normalize(data.astype('float32'))\n",
        "\n",
        "    # Fill up data with zeros to shape (3, 256, 256)\n",
        "    data_filled = mxnet.ndarray.zeros(shape=(ch, dim, dim))\n",
        "    data_filled[:data.shape[0], :data.shape[1], :data.shape[2]] = data\n",
        "\n",
        "    if label:\n",
        "      return data_filled, label\n",
        "    else:\n",
        "      return data_filled\n"
      ],
      "execution_count": 0,
      "outputs": []
    },
    {
      "cell_type": "markdown",
      "metadata": {
        "id": "iJEMNLwvtJZo",
        "colab_type": "text"
      },
      "source": [
        "## 2) Initialize dataset and data loader"
      ]
    },
    {
      "cell_type": "code",
      "metadata": {
        "id": "ciXo7NCdUpKD",
        "colab_type": "code",
        "outputId": "7386439d-db76-4779-f916-de866468816b",
        "colab": {
          "base_uri": "https://localhost:8080/",
          "height": 54
        }
      },
      "source": [
        "## =============== DEFINING DATA SETS AND LOADERS ==================\n",
        "train_folder = 'train'\n",
        "test_folder = 'test'\n",
        "batch_size = 64\n",
        "\n",
        "Dataset_Single_train = Dataset_Multilabel(train_folder, Multilabels_path, transform=transformer, n_copies=n_copies)\n",
        "Dataset_Single_test = Dataset_Multilabel(test_folder, Multilabels_path, transform=transformer, n_copies=n_copies)\n",
        "\n",
        "DataLoader_Single_train = gluon.data.DataLoader(Dataset_Single_train,\n",
        "                                    batch_size=batch_size,\n",
        "                                    shuffle=True,\n",
        "                                    last_batch='discard')\n",
        "DataLoader_Single_test = gluon.data.DataLoader(Dataset_Single_test,\n",
        "                                    batch_size=batch_size,\n",
        "                                    shuffle=True,\n",
        "                                    last_batch='discard')\n",
        "\n",
        "# Make sure the DataLoader is iterable\n",
        "for X, label in DataLoader_Single_train:\n",
        "    print(X.shape)\n",
        "    print(label.shape)\n",
        "    break"
      ],
      "execution_count": 0,
      "outputs": [
        {
          "output_type": "stream",
          "text": [
            "(64, 3, 256, 256)\n",
            "(64, 17)\n"
          ],
          "name": "stdout"
        }
      ]
    },
    {
      "cell_type": "code",
      "metadata": {
        "id": "phFn5RaYMAxw",
        "colab_type": "code",
        "outputId": "5cc2aed9-6b88-4c9f-f802-b67beeb57d20",
        "colab": {
          "base_uri": "https://localhost:8080/",
          "height": 35
        }
      },
      "source": [
        "len(Dataset_Single_train), len(Dataset_Single_test)"
      ],
      "execution_count": 0,
      "outputs": [
        {
          "output_type": "execute_result",
          "data": {
            "text/plain": [
              "(10080, 2520)"
            ]
          },
          "metadata": {
            "tags": []
          },
          "execution_count": 7
        }
      ]
    },
    {
      "cell_type": "code",
      "metadata": {
        "id": "1Lxqk1TwNvrT",
        "colab_type": "code",
        "outputId": "81997f2a-a46c-4974-a3a6-6d28319270b3",
        "colab": {
          "base_uri": "https://localhost:8080/",
          "height": 398
        }
      },
      "source": [
        "# =================== AUGMENTATION TESTER =======================\n",
        "def image_with_label(a, label=None):\n",
        "    img = a.asnumpy() # convert to numpy array\n",
        "    img = img.transpose((1, 2, 0))  # Move channel to the last dimension\n",
        "\n",
        "    plt.imshow(img)\n",
        "    plt.show()\n",
        "\n",
        "    if len(label) > 0:\n",
        "      names = ['airplane', 'bare-soil', 'buildings',\t'cars',\t'chaparral',\\\n",
        "               'court',\t'dock',\t'field',\t'grass',\t'mobile-home',\t'pavement',\\\n",
        "               'sand',\t'sea',\t'ship',\t'tanks',\t'trees',\t'water']\n",
        "      print(label)\n",
        "      labs = [i for (i, v) in zip(names, label) if v]\n",
        "      print(labs)\n",
        "\n",
        "\n",
        "# 3x256x256\n",
        "# Dataset_Single_train = Dataset_Multilabel(train_folder, Multilabels_path, n_copies=n_copies, transform=transformer)\n",
        "i = mxnet.ndarray.random.randint(low=0, high=100).asscalar()\n",
        "print(len(Dataset_Single_train))\n",
        "print(Dataset_Single_train[i][0].shape)\n",
        "image_with_label(Dataset_Single_train[i][0], Dataset_Single_train[i][1])\n"
      ],
      "execution_count": 0,
      "outputs": [
        {
          "output_type": "stream",
          "text": [
            "Clipping input data to the valid range for imshow with RGB data ([0..1] for floats or [0..255] for integers).\n"
          ],
          "name": "stderr"
        },
        {
          "output_type": "stream",
          "text": [
            "10080\n",
            "(3, 256, 256)\n"
          ],
          "name": "stdout"
        },
        {
          "output_type": "display_data",
          "data": {
            "image/png": "[encoded data removed]",
            "text/plain": [
              "<Figure size 432x288 with 1 Axes>"
            ]
          },
          "metadata": {
            "tags": [],
            "needs_background": "light"
          }
        },
        {
          "output_type": "stream",
          "text": [
            "\n",
            "[0. 0. 0. 0. 0. 0. 1. 0. 0. 0. 0. 0. 0. 1. 0. 0. 1.]\n",
            "<NDArray 17 @cpu(0)>\n",
            "['dock', 'ship', 'water']\n"
          ],
          "name": "stdout"
        }
      ]
    },
    {
      "cell_type": "markdown",
      "metadata": {
        "id": "hR5NinskGSOL",
        "colab_type": "text"
      },
      "source": [
        "#### 2.2) Defining the network\n",
        "We will simply use the FCN architecture seen during the lecture:"
      ]
    },
    {
      "cell_type": "markdown",
      "metadata": {
        "id": "DFS5W27SMob8",
        "colab_type": "text"
      },
      "source": [
        "Check the output shape of the network"
      ]
    },
    {
      "cell_type": "code",
      "metadata": {
        "id": "NwTHvyRfESaw",
        "colab_type": "code",
        "colab": {}
      },
      "source": [
        "ctx = d2l.try_all_gpus()"
      ],
      "execution_count": 0,
      "outputs": []
    },
    {
      "cell_type": "code",
      "metadata": {
        "id": "ARKvYDC9AIuG",
        "colab_type": "code",
        "outputId": "c1e4dea6-c8f4-4bde-ef69-c13f20ccc5d0",
        "colab": {
          "base_uri": "https://localhost:8080/",
          "height": 403
        }
      },
      "source": [
        "net = nn.Sequential()\n",
        "net.add(nn.Conv2D(channels=3, kernel_size=5, activation='relu'),\n",
        "        nn.MaxPool2D(pool_size=2, strides=2),\n",
        "        nn.BatchNorm(),\n",
        "        nn.Conv2D(channels=32, kernel_size=10, activation='relu'),\n",
        "        nn.MaxPool2D(pool_size=2, strides=2),\n",
        "        nn.BatchNorm(),\n",
        "        nn.Conv2D(channels=64, kernel_size=10, activation='relu'),\n",
        "        nn.MaxPool2D(pool_size=2, strides=2),\n",
        "        nn.BatchNorm(),\n",
        "        nn.Conv2D(channels=128, kernel_size=5, activation='relu'),\n",
        "        nn.MaxPool2D(pool_size=2, strides=2),\n",
        "        nn.BatchNorm(),\n",
        "        nn.Conv2D(channels=256, kernel_size=3, activation='relu'),\n",
        "        nn.MaxPool2D(pool_size=2, strides=2),\n",
        "        nn.BatchNorm(),\n",
        "        nn.Flatten(),\n",
        "        \n",
        "        nn.Dense(256, activation=\"relu\"),\n",
        "        nn.Dropout(0.6),\n",
        "        nn.Dense(128, activation=\"relu\"),\n",
        "        nn.Dropout(0.6),\n",
        "        nn.Dense(17, activation=\"sigmoid\"))\n",
        "net.initialize(init=mxnet.init.Xavier())\n",
        "\n",
        "# Test the network shapes\n",
        "X = mxnet.ndarray.random.uniform(shape=(batch_size, 3, 256, 256))\n",
        "for layer in net:\n",
        "    X = layer(X)\n",
        "    print(layer.name, 'output shape:\\t', X.shape)"
      ],
      "execution_count": 0,
      "outputs": [
        {
          "output_type": "stream",
          "text": [
            "conv25 output shape:\t (64, 3, 252, 252)\n",
            "pool25 output shape:\t (64, 3, 126, 126)\n",
            "batchnorm20 output shape:\t (64, 3, 126, 126)\n",
            "conv26 output shape:\t (64, 32, 117, 117)\n",
            "pool26 output shape:\t (64, 32, 58, 58)\n",
            "batchnorm21 output shape:\t (64, 32, 58, 58)\n",
            "conv27 output shape:\t (64, 64, 49, 49)\n",
            "pool27 output shape:\t (64, 64, 24, 24)\n",
            "batchnorm22 output shape:\t (64, 64, 24, 24)\n",
            "conv28 output shape:\t (64, 128, 20, 20)\n",
            "pool28 output shape:\t (64, 128, 10, 10)\n",
            "batchnorm23 output shape:\t (64, 128, 10, 10)\n",
            "conv29 output shape:\t (64, 256, 8, 8)\n",
            "pool29 output shape:\t (64, 256, 4, 4)\n",
            "batchnorm24 output shape:\t (64, 256, 4, 4)\n",
            "flatten5 output shape:\t (64, 4096)\n",
            "dense15 output shape:\t (64, 256)\n",
            "dropout8 output shape:\t (64, 256)\n",
            "dense16 output shape:\t (64, 128)\n",
            "dropout9 output shape:\t (64, 128)\n",
            "dense17 output shape:\t (64, 17)\n"
          ],
          "name": "stdout"
        }
      ]
    },
    {
      "cell_type": "code",
      "metadata": {
        "id": "N3-_T7QkYLTW",
        "colab_type": "code",
        "colab": {}
      },
      "source": [
        "# push net to gpu\n",
        "# net.collect_params().reset_ctx(ctx)\n",
        "net.collect_params().initialize(force_reinit=True, ctx=ctx)\n"
      ],
      "execution_count": 0,
      "outputs": []
    },
    {
      "cell_type": "code",
      "metadata": {
        "id": "PTXVaBN_AMgF",
        "colab_type": "code",
        "outputId": "4387f752-73eb-4c3e-eb1a-be3d844b4fba",
        "colab": {
          "base_uri": "https://localhost:8080/",
          "height": 35
        }
      },
      "source": [
        "# Implemented as seen in Stivaktakis et al. (2019)\n",
        "def acc(output, label, threshold=0.45):\n",
        "    # output: (batch, num_output) float32 ndarray\n",
        "    # label: (batch, num_output) flaot32 ndarray\n",
        "    # threshold: scalar\n",
        "    bs = output.shape[0]\n",
        "    acc = 0\n",
        "    for i, batch in enumerate(output): \n",
        "        batch = batch >= threshold\n",
        "        acc += sum(mxnet.ndarray.logical_and(batch, label[i])) / sum(mxnet.ndarray.logical_or(batch, label[i]))\n",
        "    return (acc / bs).asscalar()\n",
        "\n",
        "a = mxnet.nd.array([[0, 0.0, 0.5, 0, 0.5]])\n",
        "b = mxnet.nd.array([[0, 0, 1, 0, 1]])\n",
        "\n",
        "acc(a, b)"
      ],
      "execution_count": 0,
      "outputs": [
        {
          "output_type": "execute_result",
          "data": {
            "text/plain": [
              "1.0"
            ]
          },
          "metadata": {
            "tags": []
          },
          "execution_count": 39
        }
      ]
    },
    {
      "cell_type": "code",
      "metadata": {
        "id": "zW-5jhBvAO3e",
        "colab_type": "code",
        "colab": {}
      },
      "source": [
        "BCE = gluon.loss.SigmoidBCELoss(from_sigmoid=True)\n",
        "trainer = gluon.Trainer(net.collect_params(), 'sgd', {'learning_rate': 0.001})\n",
        "num_epochs = 20\n",
        "threshold = 0.45\n",
        "\n",
        "for epoch in range(num_epochs):\n",
        "    train_loss, train_acc, valid_acc = 0., 0., 0.\n",
        "    tic = time.time()\n",
        "    #animator = d2l.Animator(xlabel='epoch', xlim=[0, num_epochs],legend=['train loss', 'train acc', 'test acc'])\n",
        "    count = 0\n",
        "    for data, label in DataLoader_Single_train:\n",
        "      # gpu compatibility\n",
        "        data = gluon.utils.split_and_load(data, ctx)\n",
        "        label = gluon.utils.split_and_load(label, ctx)\n",
        "        # forward + backward\n",
        "        with autograd.record():\n",
        "            count += 1\n",
        "            #if (count % 100 == 0): print(count)\n",
        "            output = net(mxnet.nd.concat(*data, dim=1)) #unpack the data list\n",
        "            loss = BCE(output, label[0]) #index 0 is the actual label\n",
        "\n",
        "        loss.backward()\n",
        "        # update parameters\n",
        "        trainer.step(batch_size)#, ignore_stale_grad=True)\n",
        "        # calculate training metrics\n",
        "        train_loss += loss.mean().asscalar()\n",
        "        train_acc += acc(output, label[0], threshold)\n",
        "        #if (count+1) % 50 == 0: animator.add(epoch + count/len(DataLoader_Single_train),(train_loss, train_acc, None))\n",
        "    # calculate validation accuracy\n",
        "\n",
        "    for i, (val_data, val_label) in enumerate(DataLoader_Single_test):\n",
        "        val_data = gluon.utils.split_and_load(val_data, ctx)\n",
        "        val_label = gluon.utils.split_and_load(val_label, ctx)\n",
        "        valid_acc += acc( net(mxnet.nd.concat(*val_data, dim=1) ), val_label[0], threshold)\n",
        "    print(\"Epoch %d: loss %.3f, train acc %.3f, test acc %.3f, in %.1f sec\" % (\n",
        "            epoch, train_loss/len(DataLoader_Single_train), train_acc/len(DataLoader_Single_train),\n",
        "            valid_acc/len(DataLoader_Single_test), time.time()-tic))"
      ],
      "execution_count": 0,
      "outputs": []
    },
    {
      "cell_type": "markdown",
      "metadata": {
        "id": "AR1ywtNHW-g0",
        "colab_type": "text"
      },
      "source": [
        "## Saving the model to a file"
      ]
    },
    {
      "cell_type": "code",
      "metadata": {
        "id": "XCoQO5ebxWU-",
        "colab_type": "code",
        "colab": {}
      },
      "source": [
        "model_file_name = 'net_20200424_0115_mult1.params'\n",
        "net.save_parameters(model_file_name)\n",
        "\n",
        "!pip install -U -q PyDrive\n",
        "from pydrive.auth import GoogleAuth\n",
        "from pydrive.drive import GoogleDrive\n",
        "from google.colab import auth\n",
        "from oauth2client.client import GoogleCredentials\n",
        "\n",
        "auth.authenticate_user()\n",
        "gauth = GoogleAuth()\n",
        "gauth.credentials = GoogleCredentials.get_application_default()\n",
        "drive = GoogleDrive(gauth)\n",
        "\n",
        "model_file = drive.CreateFile({'title' : model_file_name})\n",
        "model_file.SetContentFile(model_file_name)\n",
        "model_file.Upload()"
      ],
      "execution_count": 0,
      "outputs": []
    },
    {
      "cell_type": "markdown",
      "metadata": {
        "id": "7CU_1-iEXGbp",
        "colab_type": "text"
      },
      "source": [
        "## Defining Test Metrics and Running Predictions"
      ]
    },
    {
      "cell_type": "code",
      "metadata": {
        "id": "zMVV3UqYqjLd",
        "colab_type": "code",
        "colab": {}
      },
      "source": [
        "# Define more metrics\n",
        "def precision(output, label, threshold=0.45):\n",
        "    # output: (batch, num_output) float32 ndarray\n",
        "    # label: (batch, num_output) flaot32 ndarray\n",
        "    # threshold: scalar\n",
        "    bs = output.shape[0]\n",
        "    prec = 0\n",
        "    for i, batch in enumerate(output):\n",
        "        batch = batch >= threshold\n",
        "        if sum(mxnet.ndarray.logical_and(batch, label[i])) == 0:\n",
        "          prec += 0\n",
        "        else:\n",
        "          prec += sum(mxnet.ndarray.logical_and(batch, label[i])) / sum(batch).asscalar()\n",
        "    return (prec / bs).asscalar()\n",
        "\n",
        "def recall(output, label, threshold=0.45):\n",
        "    # output: (batch, num_output) float32 ndarray\n",
        "    # label: (batch, num_output) flaot32 ndarray\n",
        "    # threshold: scalar\n",
        "    bs = output.shape[0]\n",
        "    rec = 0\n",
        "    for i, batch in enumerate(output):\n",
        "        batch = batch >= threshold\n",
        "        rec += sum(mxnet.ndarray.logical_and(batch, label[i])) / sum(label[i])\n",
        "    return (rec / bs).asscalar()\n",
        "\n",
        "def f1(precision, recall):\n",
        "    return 2 * (precision * recall) / (precision + recall)"
      ],
      "execution_count": 0,
      "outputs": []
    },
    {
      "cell_type": "code",
      "metadata": {
        "id": "ddXA90eNquoC",
        "colab_type": "code",
        "colab": {}
      },
      "source": [
        "def evaluate_metrics_gpus(net, data_iter, split_f=d2l.split_batch):\n",
        "    # Query the list of devices\n",
        "    ctx = list(net.collect_params().values())[0].list_ctx()\n",
        "    # metric = d2l.Accumulator(2)  # num_corrected_examples, num_examples\n",
        "    test_acc, test_prec, test_rec = 0, 0, 0\n",
        "    for features, labels in data_iter:\n",
        "        X_shards, y_shards = split_f(features, labels, ctx)\n",
        "        # Run in parallel\n",
        "        pred_shards = [net(X_shard) for X_shard in X_shards]\n",
        "        test_acc += mean([float(acc(pred_shard, y_shard)) for\n",
        "                       pred_shard, y_shard in zip(\n",
        "                           pred_shards, y_shards)])\n",
        "        test_prec += mean([float(precision(pred_shard, y_shard)) for\n",
        "                       pred_shard, y_shard in zip(\n",
        "                           pred_shards, y_shards)])\n",
        "        test_rec += mean([float(recall(pred_shard, y_shard)) for\n",
        "                       pred_shard, y_shard in zip(\n",
        "                           pred_shards, y_shards)])\n",
        "    test_acc = test_acc / len(data_iter)\n",
        "    test_prec = test_prec / len(data_iter)\n",
        "    test_rec = test_rec / len(data_iter)\n",
        "    test_f1 = f1(test_prec, test_rec)\n",
        "    return test_acc, test_prec, test_rec, test_f1\n",
        "  \n",
        "evaluate_metrics_gpus(net, DataLoader_Single_test)"
      ],
      "execution_count": 0,
      "outputs": []
    },
    {
      "cell_type": "code",
      "metadata": {
        "id": "pjyMghxwXWbz",
        "colab_type": "code",
        "colab": {}
      },
      "source": [
        "def minus(output, label, ctx, threshold=0.45):\n",
        "    # output: (batch, num_output) float32 ndarray\n",
        "    # label: (batch, num_output) flaot32 ndarray\n",
        "    # threshold: scalar\n",
        "    bs = output.shape[0]\n",
        "    out = mxnet.nd.zeros(output.shape[1], ctx=ctx[0])\n",
        "\n",
        "    for i, batch in enumerate(output):\n",
        "        batch = batch >= threshold\n",
        "        out += mxnet.ndarray.subtract(batch, label[i])\n",
        "    return (out / bs)\n",
        "\n",
        "def calculate_class_bias(net, data_iter, split_f=d2l.split_batch, threshold=0.45, nclasses=17):    \n",
        "    class_bias = []\n",
        "    for features, labels in data_iter:\n",
        "        features = features.copyto(ctx[0])\n",
        "        labels = labels.copyto(ctx[0])\n",
        "        preds = net(features)\n",
        "        if len(class_bias) == 0:\n",
        "          class_bias = minus(preds, labels, ctx)\n",
        "        else:\n",
        "          class_bias = minus(preds, labels, ctx)\n",
        "    return class_bias / len(data_iter)\n",
        "\n",
        "calculate_class_bias(net, DataLoader_Single_test)"
      ],
      "execution_count": 0,
      "outputs": []
    }
  ]
}